{
 "cells": [
  {
   "cell_type": "markdown",
   "id": "33150c8f-4b21-4cab-a289-cf52e2b75ec5",
   "metadata": {},
   "source": [
    "# External Data/Long-Term Memory 🧠"
   ]
  },
  {
   "cell_type": "markdown",
   "id": "6180d043-5cc9-4a82-b48a-7f8a7cf288d7",
   "metadata": {},
   "source": [
    "## Exercício"
   ]
  },
  {
   "cell_type": "markdown",
   "id": "798a7d1b-3c84-4936-885b-2485c338e636",
   "metadata": {},
   "source": [
    "Desenvolva uma interface <i>web</i>, usando Streamlit, que permita o usuário\n",
    "1. carregar um PDF e\n",
    "2. realizar perguntas em relação ao documento\n",
    "3. em formato de chat(bot)."
   ]
  },
  {
   "cell_type": "markdown",
   "id": "6d2712a8-31bb-421a-9db1-99f9718729a7",
   "metadata": {},
   "source": [
    "<b>Orientações do Instrutor</b>: "
   ]
  },
  {
   "cell_type": "markdown",
   "id": "a3293e15-5dbd-48b6-8f33-bf7bb9a414d2",
   "metadata": {},
   "source": [
    "Para desenvolver sua resposta, use a demonstração abaixo, a partir de 8m07s, como modelo."
   ]
  },
  {
   "cell_type": "markdown",
   "id": "a612d96a-344e-4afd-ab37-7dbfce87cdd4",
   "metadata": {},
   "source": [
    "👉 É possível que algumas bibliotecas nas suas versões atuais estejam ligeiramente diferentes. Adapte o código para fazer funcionar."
   ]
  },
  {
   "cell_type": "markdown",
   "id": "ca7b5e69-d9ff-44bd-85f7-d3518a56e105",
   "metadata": {},
   "source": [
    "👉 Use o LLM de sua preferência."
   ]
  },
  {
   "cell_type": "markdown",
   "id": "1649280b-1742-43af-b8cb-faf8876bf3a8",
   "metadata": {},
   "source": [
    "👉 Adapte o modelo para o formato de chat(bot) usando a documentação do streamlit sobre como <a href=\"https://docs.streamlit.io/develop/tutorials/llms/build-conversational-apps\">construir aplicativo de conversação</a>."
   ]
  },
  {
   "cell_type": "code",
   "execution_count": 1,
   "id": "64413667-197d-49ec-a82c-6be0015d8fb4",
   "metadata": {},
   "outputs": [
    {
     "data": {
      "text/html": [
       "\n",
       "        <iframe\n",
       "            width=\"100%\"\n",
       "            height=\"300\"\n",
       "            src=\"https://www.youtube.com/embed/FjUx4Wm3UxY?t=487\"\n",
       "            frameborder=\"0\"\n",
       "            allowfullscreen\n",
       "            \n",
       "        ></iframe>\n",
       "        "
      ],
      "text/plain": [
       "<IPython.lib.display.YouTubeVideo at 0x140f3233c50>"
      ]
     },
     "execution_count": 1,
     "metadata": {},
     "output_type": "execute_result"
    }
   ],
   "source": [
    "from IPython.display import YouTubeVideo\n",
    "YouTubeVideo(id='FjUx4Wm3UxY?t=487', width='100%')"
   ]
  }
 ],
 "metadata": {
  "kernelspec": {
   "display_name": "Python 3 (ipykernel)",
   "language": "python",
   "name": "python3"
  },
  "language_info": {
   "codemirror_mode": {
    "name": "ipython",
    "version": 3
   },
   "file_extension": ".py",
   "mimetype": "text/x-python",
   "name": "python",
   "nbconvert_exporter": "python",
   "pygments_lexer": "ipython3",
   "version": "3.12.0"
  }
 },
 "nbformat": 4,
 "nbformat_minor": 5
}
